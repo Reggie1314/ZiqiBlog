{
 "cells": [
  {
   "cell_type": "markdown",
   "id": "07c14f49",
   "metadata": {},
   "source": [
    "---\n",
    "title: \"Fast Fashion blog\"\n",
    "description: \"Final Project\" author: \"Ziqi Li\"\n",
    "date: \"03/20/2023\" date-modified: \"03/20/2023\" ---\n"
   ]
  },
  {
   "cell_type": "markdown",
   "id": "d1f4e1ec",
   "metadata": {},
   "source": [
    "# SECTION 1: INTRODUCTION"
   ]
  },
  {
   "cell_type": "markdown",
   "id": "c53ad0b0",
   "metadata": {},
   "source": [
    "Fast fashion is a complicated industry that exploits many aspects of human life. In this project, I wish to dissect the Twitter discourse surrounding fast fashion to better understand the environmental, social, and cultural issues associated with the industry. I am specifically interested in how it is entangled with environmentalism, socioeconomic inequality, consumerism, human rights, and fashion culture. My research questions focus on examining how people discuss fast fashion on Twitter through qualitative and quantitative research, such as:\n",
    "1. What is the discourse surrounding the advocacy and criticism concerning fast fashion?\n",
    "2. How do American attitudes towards culture, capitalism, and environmentalism influence attitudes towards practices of fast fashion production and consumption?"
   ]
  },
  {
   "cell_type": "markdown",
   "id": "91ffdff0",
   "metadata": {},
   "source": [
    "# SECTION 2: METHOD"
   ]
  },
  {
   "cell_type": "markdown",
   "id": "cd7a4971",
   "metadata": {},
   "source": [
    "In sourcing my dataset, I used snscrape in Python to scrape tweets from Twitter with the search term \"fast fashion\". Utilizing a broad search term such as “fast fashion” allows me to see all facets of the Twitter discourse surrounding the industry. This would enable me to concentrate on both the most and least frequent conversations about my topic. The initial dataset included around 10,000 tweets between January 11, 2023 to February 3, 2023. I replaced empty entries with \"NaN\" and created a subset with only English tweets to make future analysis easier and reflect American attitudes toward fast fashion. The final version of dataset I used for my project is \"fastfashion_cleaned_subset\" with 3672 rows and 25 columns.  \n",
    "  \n",
    "For the exploratory analysis, I looked at the dataset's overall statistics and dig deeper into several meaningful variables. I made use of bar plot, line plot, and pie chart to visualize the distribution of source devices, hashtags, and tweet types, as well as daily count of tweets. These exploratory plots provide a general picture on the dataset and shed light on further study directions.  \n",
    "  \n",
    "The final part of analysis is a series of sentiment analysis on the tweets' specific emotion and content with nltk packages. I used vader to obtain the compound scores of each tweet and categorized them into positive/negative/neutral word lists according to decided thresholds. Visualization of the distribution of compound scores and sentiment categories motivated me to further investigate the detailed composition of the tweets. Finally, I tokenized each word of each tweet in the dataset, removed the stop word from them, and visualized the top 15 common positive/negative words respectively. This dissected the tweets' sentiment into central words and allowed me to get a more transparent picture on the most popular sentiments and topics pertinent to fast fashion. "
   ]
  },
  {
   "cell_type": "code",
   "execution_count": 5,
   "id": "59fde1d9",
   "metadata": {
    "tags": [
     "hide_code"
    ]
   },
   "outputs": [
    {
     "name": "stderr",
     "output_type": "stream",
     "text": [
      "UsageError: Line magic function `%%capture` not found.\n"
     ]
    }
   ],
   "source": [
    "# Importing all necessary packages for further utilization\n",
    "%%capture\n",
    "\n",
    "import pandas as pd\n",
    "import requests\n",
    "import matplotlib.pyplot as plt\n",
    "import nltk\n",
    "import os\n",
    "import math\n",
    "\n",
    "from nltk import FreqDist\n",
    "from nltk.tokenize import word_tokenize\n",
    "from nltk.sentiment import vader\n",
    "from nltk.corpus import stopwords\n",
    "from nltk.corpus import opinion_lexicon\n",
    "from nltk.stem.porter import PorterStemmer\n",
    "from nltk.sentiment.vader import SentimentIntensityAnalyzer\n",
    "\n",
    "nltk.download('punkt')\n",
    "nltk.download('stopwords')\n",
    "nltk.download('vader_lexicon')\n",
    "nltk.download('opinion_lexicon')"
   ]
  },
  {
   "cell_type": "markdown",
   "id": "5374582e",
   "metadata": {},
   "source": [
    "### Datasets"
   ]
  },
  {
   "cell_type": "code",
   "execution_count": 15,
   "id": "2d118c36",
   "metadata": {},
   "outputs": [],
   "source": [
    "# Since the tweet scraping process takes a large amount of time and may vary in each run, \n",
    "# I comment out the code for data scraping and data cleaning\n",
    "# data cleaning: replace all blank cells with 'NaN'; create a subset with tweets only in English Language\n",
    "# the final dataset I used is \"fastfashion_cleaned_subset.csv\"\n",
    "\n",
    "\n",
    "#os.system(\"snscrape --jsonl --max-results 10000 --since 2023-01-11 twitter-search 'fast fashion until:2023-02-04' > fast_fashion.json\")\n",
    "\n",
    "#tweets_df = pd.read_json('fast_fashion.json', lines=True)\n",
    "#tweets_df.to_csv (r'fast_fashion.csv', index = None)\n",
    "#tweets_df[tweets_df == \"\"] = float(\"NaN\")\n",
    "#tweets_df.to_csv (r'fastfashion_cleaned_full.csv', index = None)\n",
    "#tweets_df = tweets_df[tweets_df[\"lang\"] == \"en\"]\n",
    "#tweets_df.to_csv (r'fastfashion_cleaned_subset', index = None)"
   ]
  },
  {
   "cell_type": "markdown",
   "id": "60a419e2",
   "metadata": {},
   "source": [
    "## Exploratory Analysis"
   ]
  },
  {
   "cell_type": "markdown",
   "id": "02df34fc",
   "metadata": {},
   "source": [
    "### 1. Descriptive Statistics"
   ]
  },
  {
   "cell_type": "code",
   "execution_count": 14,
   "id": "6bf871b8",
   "metadata": {},
   "outputs": [
    {
     "data": {
      "text/html": [
       "<div>\n",
       "<style scoped>\n",
       "    .dataframe tbody tr th:only-of-type {\n",
       "        vertical-align: middle;\n",
       "    }\n",
       "\n",
       "    .dataframe tbody tr th {\n",
       "        vertical-align: top;\n",
       "    }\n",
       "\n",
       "    .dataframe thead th {\n",
       "        text-align: right;\n",
       "    }\n",
       "</style>\n",
       "<table border=\"1\" class=\"dataframe\">\n",
       "  <thead>\n",
       "    <tr style=\"text-align: right;\">\n",
       "      <th></th>\n",
       "      <th>Unnamed: 0</th>\n",
       "      <th>X_type</th>\n",
       "      <th>url</th>\n",
       "      <th>date</th>\n",
       "      <th>rawContent</th>\n",
       "      <th>renderedContent</th>\n",
       "      <th>id</th>\n",
       "      <th>replyCount</th>\n",
       "      <th>retweetCount</th>\n",
       "      <th>likeCount</th>\n",
       "      <th>...</th>\n",
       "      <th>source_device</th>\n",
       "      <th>sourceLabel</th>\n",
       "      <th>retweetedTweet</th>\n",
       "      <th>inReplyToTweetId</th>\n",
       "      <th>longitude</th>\n",
       "      <th>latitude</th>\n",
       "      <th>hashtags</th>\n",
       "      <th>cashtags</th>\n",
       "      <th>viewCount</th>\n",
       "      <th>vibe</th>\n",
       "    </tr>\n",
       "  </thead>\n",
       "  <tbody>\n",
       "    <tr>\n",
       "      <th>0</th>\n",
       "      <td>1</td>\n",
       "      <td>snscrape.modules.twitter.Tweet</td>\n",
       "      <td>https://twitter.com/Alan_S_Morrison/status/162...</td>\n",
       "      <td>2023-02-03 20:31:01+00:00</td>\n",
       "      <td>The only reason I can think of for why people ...</td>\n",
       "      <td>The only reason I can think of for why people ...</td>\n",
       "      <td>1.621607e+18</td>\n",
       "      <td>0</td>\n",
       "      <td>0</td>\n",
       "      <td>0</td>\n",
       "      <td>...</td>\n",
       "      <td>Android</td>\n",
       "      <td>Twitter for Android</td>\n",
       "      <td>NaN</td>\n",
       "      <td>NaN</td>\n",
       "      <td>NaN</td>\n",
       "      <td>NaN</td>\n",
       "      <td>['CarColours']</td>\n",
       "      <td>NaN</td>\n",
       "      <td>49.0</td>\n",
       "      <td>NaN</td>\n",
       "    </tr>\n",
       "    <tr>\n",
       "      <th>1</th>\n",
       "      <td>2</td>\n",
       "      <td>snscrape.modules.twitter.Tweet</td>\n",
       "      <td>https://twitter.com/LiveSlowDyeFast/status/162...</td>\n",
       "      <td>2023-02-03 20:19:19+00:00</td>\n",
       "      <td>The early 2000s has to be the worst period in ...</td>\n",
       "      <td>The early 2000s has to be the worst period in ...</td>\n",
       "      <td>1.621604e+18</td>\n",
       "      <td>0</td>\n",
       "      <td>0</td>\n",
       "      <td>0</td>\n",
       "      <td>...</td>\n",
       "      <td>iPhone</td>\n",
       "      <td>Twitter for iPhone</td>\n",
       "      <td>NaN</td>\n",
       "      <td>NaN</td>\n",
       "      <td>NaN</td>\n",
       "      <td>NaN</td>\n",
       "      <td>NaN</td>\n",
       "      <td>NaN</td>\n",
       "      <td>8.0</td>\n",
       "      <td>NaN</td>\n",
       "    </tr>\n",
       "    <tr>\n",
       "      <th>2</th>\n",
       "      <td>3</td>\n",
       "      <td>snscrape.modules.twitter.Tweet</td>\n",
       "      <td>https://twitter.com/FalkAppreciator/status/162...</td>\n",
       "      <td>2023-02-03 20:00:05+00:00</td>\n",
       "      <td>Deciding to become a Hypebeast. No thoughts. O...</td>\n",
       "      <td>Deciding to become a Hypebeast. No thoughts. O...</td>\n",
       "      <td>1.621599e+18</td>\n",
       "      <td>0</td>\n",
       "      <td>0</td>\n",
       "      <td>0</td>\n",
       "      <td>...</td>\n",
       "      <td>iPhone</td>\n",
       "      <td>Twitter for iPhone</td>\n",
       "      <td>NaN</td>\n",
       "      <td>NaN</td>\n",
       "      <td>NaN</td>\n",
       "      <td>NaN</td>\n",
       "      <td>NaN</td>\n",
       "      <td>NaN</td>\n",
       "      <td>40.0</td>\n",
       "      <td>NaN</td>\n",
       "    </tr>\n",
       "    <tr>\n",
       "      <th>3</th>\n",
       "      <td>4</td>\n",
       "      <td>snscrape.modules.twitter.Tweet</td>\n",
       "      <td>https://twitter.com/otherlindseyy/status/16215...</td>\n",
       "      <td>2023-02-03 19:44:32+00:00</td>\n",
       "      <td>And as a plus size person, the only places we ...</td>\n",
       "      <td>And as a plus size person, the only places we ...</td>\n",
       "      <td>1.621596e+18</td>\n",
       "      <td>0</td>\n",
       "      <td>0</td>\n",
       "      <td>1</td>\n",
       "      <td>...</td>\n",
       "      <td>Android</td>\n",
       "      <td>Twitter for Android</td>\n",
       "      <td>NaN</td>\n",
       "      <td>NaN</td>\n",
       "      <td>NaN</td>\n",
       "      <td>NaN</td>\n",
       "      <td>NaN</td>\n",
       "      <td>NaN</td>\n",
       "      <td>9.0</td>\n",
       "      <td>NaN</td>\n",
       "    </tr>\n",
       "    <tr>\n",
       "      <th>4</th>\n",
       "      <td>5</td>\n",
       "      <td>snscrape.modules.twitter.Tweet</td>\n",
       "      <td>https://twitter.com/Miao993306/status/16215919...</td>\n",
       "      <td>2023-02-03 19:30:25+00:00</td>\n",
       "      <td>The amount of people defending their over cons...</td>\n",
       "      <td>The amount of people defending their over cons...</td>\n",
       "      <td>1.621592e+18</td>\n",
       "      <td>0</td>\n",
       "      <td>0</td>\n",
       "      <td>0</td>\n",
       "      <td>...</td>\n",
       "      <td>Twitter Web App</td>\n",
       "      <td>Twitter Web App</td>\n",
       "      <td>NaN</td>\n",
       "      <td>NaN</td>\n",
       "      <td>NaN</td>\n",
       "      <td>NaN</td>\n",
       "      <td>NaN</td>\n",
       "      <td>NaN</td>\n",
       "      <td>3.0</td>\n",
       "      <td>NaN</td>\n",
       "    </tr>\n",
       "  </tbody>\n",
       "</table>\n",
       "<p>5 rows × 25 columns</p>\n",
       "</div>"
      ],
      "text/plain": [
       "   Unnamed: 0                          X_type  \\\n",
       "0           1  snscrape.modules.twitter.Tweet   \n",
       "1           2  snscrape.modules.twitter.Tweet   \n",
       "2           3  snscrape.modules.twitter.Tweet   \n",
       "3           4  snscrape.modules.twitter.Tweet   \n",
       "4           5  snscrape.modules.twitter.Tweet   \n",
       "\n",
       "                                                 url  \\\n",
       "0  https://twitter.com/Alan_S_Morrison/status/162...   \n",
       "1  https://twitter.com/LiveSlowDyeFast/status/162...   \n",
       "2  https://twitter.com/FalkAppreciator/status/162...   \n",
       "3  https://twitter.com/otherlindseyy/status/16215...   \n",
       "4  https://twitter.com/Miao993306/status/16215919...   \n",
       "\n",
       "                        date  \\\n",
       "0  2023-02-03 20:31:01+00:00   \n",
       "1  2023-02-03 20:19:19+00:00   \n",
       "2  2023-02-03 20:00:05+00:00   \n",
       "3  2023-02-03 19:44:32+00:00   \n",
       "4  2023-02-03 19:30:25+00:00   \n",
       "\n",
       "                                          rawContent  \\\n",
       "0  The only reason I can think of for why people ...   \n",
       "1  The early 2000s has to be the worst period in ...   \n",
       "2  Deciding to become a Hypebeast. No thoughts. O...   \n",
       "3  And as a plus size person, the only places we ...   \n",
       "4  The amount of people defending their over cons...   \n",
       "\n",
       "                                     renderedContent            id  \\\n",
       "0  The only reason I can think of for why people ...  1.621607e+18   \n",
       "1  The early 2000s has to be the worst period in ...  1.621604e+18   \n",
       "2  Deciding to become a Hypebeast. No thoughts. O...  1.621599e+18   \n",
       "3  And as a plus size person, the only places we ...  1.621596e+18   \n",
       "4  The amount of people defending their over cons...  1.621592e+18   \n",
       "\n",
       "   replyCount  retweetCount  likeCount  ...    source_device  \\\n",
       "0           0             0          0  ...          Android   \n",
       "1           0             0          0  ...           iPhone   \n",
       "2           0             0          0  ...           iPhone   \n",
       "3           0             0          1  ...          Android   \n",
       "4           0             0          0  ...  Twitter Web App   \n",
       "\n",
       "           sourceLabel retweetedTweet inReplyToTweetId longitude latitude  \\\n",
       "0  Twitter for Android            NaN              NaN       NaN      NaN   \n",
       "1   Twitter for iPhone            NaN              NaN       NaN      NaN   \n",
       "2   Twitter for iPhone            NaN              NaN       NaN      NaN   \n",
       "3  Twitter for Android            NaN              NaN       NaN      NaN   \n",
       "4      Twitter Web App            NaN              NaN       NaN      NaN   \n",
       "\n",
       "         hashtags  cashtags  viewCount  vibe  \n",
       "0  ['CarColours']       NaN       49.0   NaN  \n",
       "1             NaN       NaN        8.0   NaN  \n",
       "2             NaN       NaN       40.0   NaN  \n",
       "3             NaN       NaN        9.0   NaN  \n",
       "4             NaN       NaN        3.0   NaN  \n",
       "\n",
       "[5 rows x 25 columns]"
      ]
     },
     "execution_count": 14,
     "metadata": {},
     "output_type": "execute_result"
    }
   ],
   "source": [
    "# importing data\n",
    "fashion = pd.read_csv(\"fastfashion_cleaned_subset.csv\")\n",
    "\n",
    "# check the first five rows to get a representative picture of the whole dataset\n",
    "fashion.head()"
   ]
  },
  {
   "cell_type": "code",
   "execution_count": 41,
   "id": "1a03995b",
   "metadata": {},
   "outputs": [
    {
     "data": {
      "text/plain": [
       "(3672, 25)"
      ]
     },
     "execution_count": 41,
     "metadata": {},
     "output_type": "execute_result"
    }
   ],
   "source": [
    "# check the dimension of dataset, 3672 rows and 25 columns\n",
    "fashion.shape"
   ]
  },
  {
   "cell_type": "code",
   "execution_count": 54,
   "id": "ca012e5d",
   "metadata": {},
   "outputs": [
    {
     "data": {
      "text/html": [
       "<div>\n",
       "<style scoped>\n",
       "    .dataframe tbody tr th:only-of-type {\n",
       "        vertical-align: middle;\n",
       "    }\n",
       "\n",
       "    .dataframe tbody tr th {\n",
       "        vertical-align: top;\n",
       "    }\n",
       "\n",
       "    .dataframe thead th {\n",
       "        text-align: right;\n",
       "    }\n",
       "</style>\n",
       "<table border=\"1\" class=\"dataframe\">\n",
       "  <thead>\n",
       "    <tr style=\"text-align: right;\">\n",
       "      <th></th>\n",
       "      <th>Unnamed: 0</th>\n",
       "      <th>id</th>\n",
       "      <th>replyCount</th>\n",
       "      <th>retweetCount</th>\n",
       "      <th>likeCount</th>\n",
       "      <th>quoteCount</th>\n",
       "      <th>conversationId</th>\n",
       "      <th>retweetedTweet</th>\n",
       "      <th>inReplyToTweetId</th>\n",
       "      <th>longitude</th>\n",
       "      <th>latitude</th>\n",
       "      <th>viewCount</th>\n",
       "    </tr>\n",
       "  </thead>\n",
       "  <tbody>\n",
       "    <tr>\n",
       "      <th>count</th>\n",
       "      <td>3672.000000</td>\n",
       "      <td>3.672000e+03</td>\n",
       "      <td>3672.000000</td>\n",
       "      <td>3672.000000</td>\n",
       "      <td>3672.000000</td>\n",
       "      <td>3672.000000</td>\n",
       "      <td>3.672000e+03</td>\n",
       "      <td>0.0</td>\n",
       "      <td>0.0</td>\n",
       "      <td>52.000000</td>\n",
       "      <td>52.000000</td>\n",
       "      <td>3.523000e+03</td>\n",
       "    </tr>\n",
       "    <tr>\n",
       "      <th>mean</th>\n",
       "      <td>1836.500000</td>\n",
       "      <td>1.617448e+18</td>\n",
       "      <td>1.703976</td>\n",
       "      <td>6.086057</td>\n",
       "      <td>58.981209</td>\n",
       "      <td>1.424020</td>\n",
       "      <td>1.617385e+18</td>\n",
       "      <td>NaN</td>\n",
       "      <td>NaN</td>\n",
       "      <td>-33.926986</td>\n",
       "      <td>30.604413</td>\n",
       "      <td>9.106750e+03</td>\n",
       "    </tr>\n",
       "    <tr>\n",
       "      <th>std</th>\n",
       "      <td>1060.159422</td>\n",
       "      <td>2.362618e+15</td>\n",
       "      <td>45.647129</td>\n",
       "      <td>141.657346</td>\n",
       "      <td>1640.998705</td>\n",
       "      <td>56.305972</td>\n",
       "      <td>4.320028e+15</td>\n",
       "      <td>NaN</td>\n",
       "      <td>NaN</td>\n",
       "      <td>78.590022</td>\n",
       "      <td>22.882305</td>\n",
       "      <td>3.512026e+05</td>\n",
       "    </tr>\n",
       "    <tr>\n",
       "      <th>min</th>\n",
       "      <td>1.000000</td>\n",
       "      <td>1.613136e+18</td>\n",
       "      <td>0.000000</td>\n",
       "      <td>0.000000</td>\n",
       "      <td>0.000000</td>\n",
       "      <td>0.000000</td>\n",
       "      <td>1.398297e+18</td>\n",
       "      <td>NaN</td>\n",
       "      <td>NaN</td>\n",
       "      <td>-123.224215</td>\n",
       "      <td>-34.358390</td>\n",
       "      <td>1.000000e+00</td>\n",
       "    </tr>\n",
       "    <tr>\n",
       "      <th>25%</th>\n",
       "      <td>918.750000</td>\n",
       "      <td>1.615620e+18</td>\n",
       "      <td>0.000000</td>\n",
       "      <td>0.000000</td>\n",
       "      <td>0.000000</td>\n",
       "      <td>0.000000</td>\n",
       "      <td>1.615618e+18</td>\n",
       "      <td>NaN</td>\n",
       "      <td>NaN</td>\n",
       "      <td>-89.234374</td>\n",
       "      <td>18.021426</td>\n",
       "      <td>2.800000e+01</td>\n",
       "    </tr>\n",
       "    <tr>\n",
       "      <th>50%</th>\n",
       "      <td>1836.500000</td>\n",
       "      <td>1.617418e+18</td>\n",
       "      <td>0.000000</td>\n",
       "      <td>0.000000</td>\n",
       "      <td>1.000000</td>\n",
       "      <td>0.000000</td>\n",
       "      <td>1.617412e+18</td>\n",
       "      <td>NaN</td>\n",
       "      <td>NaN</td>\n",
       "      <td>-73.991230</td>\n",
       "      <td>34.981266</td>\n",
       "      <td>8.800000e+01</td>\n",
       "    </tr>\n",
       "    <tr>\n",
       "      <th>75%</th>\n",
       "      <td>2754.250000</td>\n",
       "      <td>1.619348e+18</td>\n",
       "      <td>1.000000</td>\n",
       "      <td>0.000000</td>\n",
       "      <td>3.000000</td>\n",
       "      <td>0.000000</td>\n",
       "      <td>1.619342e+18</td>\n",
       "      <td>NaN</td>\n",
       "      <td>NaN</td>\n",
       "      <td>7.308589</td>\n",
       "      <td>49.198540</td>\n",
       "      <td>3.210000e+02</td>\n",
       "    </tr>\n",
       "    <tr>\n",
       "      <th>max</th>\n",
       "      <td>3672.000000</td>\n",
       "      <td>1.621607e+18</td>\n",
       "      <td>2682.000000</td>\n",
       "      <td>6499.000000</td>\n",
       "      <td>78822.000000</td>\n",
       "      <td>3257.000000</td>\n",
       "      <td>1.621607e+18</td>\n",
       "      <td>NaN</td>\n",
       "      <td>NaN</td>\n",
       "      <td>166.533873</td>\n",
       "      <td>54.550750</td>\n",
       "      <td>2.034971e+07</td>\n",
       "    </tr>\n",
       "  </tbody>\n",
       "</table>\n",
       "</div>"
      ],
      "text/plain": [
       "        Unnamed: 0            id   replyCount  retweetCount     likeCount  \\\n",
       "count  3672.000000  3.672000e+03  3672.000000   3672.000000   3672.000000   \n",
       "mean   1836.500000  1.617448e+18     1.703976      6.086057     58.981209   \n",
       "std    1060.159422  2.362618e+15    45.647129    141.657346   1640.998705   \n",
       "min       1.000000  1.613136e+18     0.000000      0.000000      0.000000   \n",
       "25%     918.750000  1.615620e+18     0.000000      0.000000      0.000000   \n",
       "50%    1836.500000  1.617418e+18     0.000000      0.000000      1.000000   \n",
       "75%    2754.250000  1.619348e+18     1.000000      0.000000      3.000000   \n",
       "max    3672.000000  1.621607e+18  2682.000000   6499.000000  78822.000000   \n",
       "\n",
       "        quoteCount  conversationId  retweetedTweet  inReplyToTweetId  \\\n",
       "count  3672.000000    3.672000e+03             0.0               0.0   \n",
       "mean      1.424020    1.617385e+18             NaN               NaN   \n",
       "std      56.305972    4.320028e+15             NaN               NaN   \n",
       "min       0.000000    1.398297e+18             NaN               NaN   \n",
       "25%       0.000000    1.615618e+18             NaN               NaN   \n",
       "50%       0.000000    1.617412e+18             NaN               NaN   \n",
       "75%       0.000000    1.619342e+18             NaN               NaN   \n",
       "max    3257.000000    1.621607e+18             NaN               NaN   \n",
       "\n",
       "        longitude   latitude     viewCount  \n",
       "count   52.000000  52.000000  3.523000e+03  \n",
       "mean   -33.926986  30.604413  9.106750e+03  \n",
       "std     78.590022  22.882305  3.512026e+05  \n",
       "min   -123.224215 -34.358390  1.000000e+00  \n",
       "25%    -89.234374  18.021426  2.800000e+01  \n",
       "50%    -73.991230  34.981266  8.800000e+01  \n",
       "75%      7.308589  49.198540  3.210000e+02  \n",
       "max    166.533873  54.550750  2.034971e+07  "
      ]
     },
     "execution_count": 54,
     "metadata": {},
     "output_type": "execute_result"
    }
   ],
   "source": [
    "# Output summary statistics about the dataframe.\n",
    "fashion.describe()"
   ]
  },
  {
   "cell_type": "markdown",
   "id": "c3a78709",
   "metadata": {},
   "source": [
    "### 2. Informative Plots"
   ]
  },
  {
   "cell_type": "code",
   "execution_count": 55,
   "id": "1de97417",
   "metadata": {},
   "outputs": [
    {
     "data": {
      "text/plain": [
       "iPhone                1348\n",
       "Twitter Web App        715\n",
       "Android                477\n",
       "Post Studio            256\n",
       "Hootsuite Inc.          87\n",
       "                      ... \n",
       "Typeshare.co             1\n",
       "DPBeerDashboard          1\n",
       "Media uploads app        1\n",
       "ContentStudio.io         1\n",
       "ted_share_analysis       1\n",
       "Name: source_device, Length: 133, dtype: int64"
      ]
     },
     "execution_count": 55,
     "metadata": {},
     "output_type": "execute_result"
    }
   ],
   "source": [
    "# count and order the frequency of source devices \n",
    "\n",
    "fashion[\"source_device\"].value_counts()"
   ]
  },
  {
   "cell_type": "code",
   "execution_count": 58,
   "id": "a9e575a7",
   "metadata": {},
   "outputs": [
    {
     "data": {
      "image/png": "[encoded data removed]",
      "text/plain": [
       "<Figure size 576x432 with 1 Axes>"
      ]
     },
     "metadata": {
      "needs_background": "light"
     },
     "output_type": "display_data"
    }
   ],
   "source": [
    "# making a bar plot visualizing the top five devices/platform within the dataset\n",
    "\n",
    "device = ['iPhone', 'Twitter Web App', 'Android', 'Post Studio', 'Hootsuite Inc.']\n",
    "count_device = [1348, 715, 477, 256, 87]\n",
    "colors = ['red', 'green', 'blue', 'orange', \"pink\"]\n",
    "\n",
    "# creating the bar plot showcasing top five devices/platform\n",
    "plt.figure(figsize=(8, 6))\n",
    "plt.bar(device, count_device, color = colors)\n",
    "plt.ylabel('Counts')\n",
    "plt.title('Top Five Devices/Platform')\n",
    "plt.show()"
   ]
  },
  {
   "cell_type": "markdown",
   "id": "8a4ab806",
   "metadata": {},
   "source": [
    "#### Interpretation:  \n",
    "it gives a hint into what types of people/organizations are participating in the fast fashion discourse. While the top 3 platforms/devices are very predictable, what is interesting is Post Studio and Hootsuite Inc. Given a simple Google search, I found out that these two platforms are essentially social media management platforms that have features such as auto posting. This tells that many companies and organizations such as news outlets are using these tools to share news or articles pertinent to fast fashion. This could mean that the Twitter discourse could be fairly neutral or evenly spread between each sentiment given that both individuals and organizations are present in the discussion. "
   ]
  },
  {
   "cell_type": "code",
   "execution_count": 59,
   "id": "f26d1f7a",
   "metadata": {},
   "outputs": [
    {
     "data": {
      "image/png": "[encoded data removed]",
      "text/plain": [
       "<Figure size 1152x432 with 1 Axes>"
      ]
     },
     "metadata": {
      "needs_background": "light"
     },
     "output_type": "display_data"
    }
   ],
   "source": [
    "# making a line plot visualizing the number of tweets posted for each day from January 11, 2023, to February 3, 2023. \n",
    "\n",
    "# simplify the date to a \"Month/Date\" version for better interpretation and simplicity of the plot\n",
    "date_simplified = []\n",
    "for date in fashion[\"date\"]:\n",
    "    date_simplified.append(date[4:10])\n",
    "fashion[\"date_simplified\"] = date_simplified\n",
    "\n",
    "date = fashion[\"date_simplified\"].unique()\n",
    "date_1 = date[::-1]\n",
    "\n",
    "# count the number of tweets posted in each day\n",
    "counts = fashion.groupby(\"date_simplified\").size()\n",
    "\n",
    "# create a line plot showcasing number of Tweets over time\n",
    "fig, ax = plt.subplots(figsize=(16, 6))\n",
    "ax.plot(date_1, counts)\n",
    "ax.set_xlabel('Date')\n",
    "ax.set_ylabel('Counts')\n",
    "ax.set_title('Number of Tweets over time')\n",
    "plt.show()\n"
   ]
  },
  {
   "cell_type": "markdown",
   "id": "0fe4bbcb",
   "metadata": {},
   "source": [
    "#### Interpretation:   \n",
    "According to the graph, the highest peak in the number of tweets posted in a day is January 22, 2023 – January 23, 2023. Compared to the average of about 150 new tweets a day, January 22 saw 279 new tweets, and January 23 saw 254, which is about a 75% increase from the average. This could potentially show that something important happened in the area of fast fashion during this period which prompted people to share their original thoughts on Twitter. This can include new information or news being released such as a report detailing how much oil waste fast fashion companies produce. Such trends indicate how the discourse of fast fashion has changed over about a month by looking at catalyzing events. "
   ]
  },
  {
   "cell_type": "code",
   "execution_count": 96,
   "id": "c1696222",
   "metadata": {},
   "outputs": [
    {
     "data": {
      "image/png": "[encoded data removed]",
      "text/plain": [
       "<Figure size 576x432 with 1 Axes>"
      ]
     },
     "metadata": {},
     "output_type": "display_data"
    }
   ],
   "source": [
    "# making a pie plot visualizing the distribution of tweet types (organic tweets, replies, retweets)\n",
    "\n",
    "# I used the larger dataset for this visualization for a larger sample size\n",
    "# Calculating the counts of organic tweets, replies, and retweets respectively\n",
    "fashion_large = pd.read_csv(\"fastfashion_cleaned_full.csv\")\n",
    "count_reply = 0\n",
    "for i in fashion_large[\"inReplyToTweetId\"]:\n",
    "    if not math.isnan(i):\n",
    "        count_reply += 1\n",
    "count_organic = 10025 - count_reply\n",
    "count_retweet = fashion_large[\"retweetCount\"].sum()\n",
    "tweets_type = ['organic tweets', 'replies', 'retweets']\n",
    "tweets_type_counts = [count_organic, count_reply, count_retweet]\n",
    "\n",
    "# creating the pie plot showcasing relative proportions of tweet type\n",
    "plt.figure(figsize=(8, 6))\n",
    "plt.pie(tweets_type_counts, labels = tweets_type)\n",
    "plt.title('Tweet type distribution')\n",
    "plt.show()"
   ]
  },
  {
   "cell_type": "markdown",
   "id": "69c53fd1",
   "metadata": {},
   "source": [
    "#### Interpretation:  \n",
    "Majority of the tweets are of the retweet type, whereas organic tweets and replies only constituted low percentages of the data. This suggests that the fast fashion topics are mostly resonating with people in the Twitter community and that they find it valuable enough to share. On the other hand, the low percentage of organic tweets and replies indicate a lack of original content that can spark conversations and engagement among the audiences. Much of the discourse surrounding fast fashion does not consist of individuals voicing their personal opinions.   \n",
    "  \n",
    "This finding might provide insights to answer my research question on the dynamics of American attitudes toward the practices of fast fashion. High retweets typically indicate rising awareness, but there isn’t a lot of action being taken, and there are not enough people caring enough to take the time and express their own opinions. Moreover, the same narratives recirculating on Twitter may lead to unoriginal discourse and the spread of misinformation. This can happen in several ways, such as when users retweet or share the same posts without adding their own perspectives or insights or taking the original tweet out of context. Additionally, users may share the same articles, news stories, or opinion pieces, which can lead to a repetitive conversation on a particular topic in fast fashion. It can limit the diversity of perspectives and ideas that are being shared and the potential for new insights or creative solutions to be discovered."
   ]
  },
  {
   "cell_type": "code",
   "execution_count": 97,
   "id": "142917e7",
   "metadata": {},
   "outputs": [
    {
     "data": {
      "text/plain": [
       "['fashion', 'women', 'men', 'beauty', 'model', 'design', 'art', 'Valentine', 'fallstores']    85\n",
       "['plussize', 'fashion', 'curves', 'curvy', 'style', 'inspo']                                  35\n",
       "['fashion', 'women', 'men', 'beauty', 'model', 'design', 'art', 'Christmas', 'fallstores']    22\n",
       "['streetwear', 'fashion']                                                                     14\n",
       "['fastfashion']                                                                               13\n",
       "Name: hashtags, dtype: int64"
      ]
     },
     "execution_count": 97,
     "metadata": {},
     "output_type": "execute_result"
    }
   ],
   "source": [
    "# count and order the frequency of hashtags, showing firt five \n",
    "\n",
    "fashion[\"hashtags\"].value_counts()[0:5]"
   ]
  },
  {
   "cell_type": "code",
   "execution_count": 98,
   "id": "fbd694c4",
   "metadata": {},
   "outputs": [
    {
     "data": {
      "image/png": "[encoded data removed]",
      "text/plain": [
       "<Figure size 576x432 with 1 Axes>"
      ]
     },
     "metadata": {},
     "output_type": "display_data"
    }
   ],
   "source": [
    "# making a pie plot of the top five frequent hashtags\n",
    "\n",
    "hashtag_type = ['[fashion, women, men,...Valentine]', '[plussize, fashion, curves,...]', '[fashion, women, men,...Christmas]',\n",
    "               '[streetwear, fashion]',  '[fastfashion]']\n",
    "hashtag_type_counts = [85, 35, 22, 14, 13]\n",
    "plt.figure(figsize=(8, 6))\n",
    "plt.pie(hashtag_type_counts, labels = hashtag_type)\n",
    "plt.title('Tweet hashtag distribution')\n",
    "plt.show()"
   ]
  },
  {
   "cell_type": "markdown",
   "id": "650e6a98",
   "metadata": {},
   "source": [
    "#### Interpretation:  \n",
    "By looking at the most frequent hashtags, I observed that the most related topics to fast fashion turned out to be \"Valentine,\" \"curves,\" \"streetwear,\" \"beauty,\" etc.. This provides a clearer picture on how people view and reference to fast fashion, such that there are more references to fast fashion's related festivals, styles, and customers than references to its environmental or ethical issues. However, hashtags cannot completely reflect the content of the tweets themself, since they only provide a convenient reference to certain topics. Therefore, in the next section, I will conduct more in-depth sentiment analysis on the raw content of tweets to obtain more insights.\n"
   ]
  },
  {
   "cell_type": "markdown",
   "id": "060ab5d3",
   "metadata": {},
   "source": [
    "# SECTION 3: SENTIMENT ANALYSIS & RESULTS"
   ]
  },
  {
   "cell_type": "markdown",
   "id": "6dec5800",
   "metadata": {},
   "source": [
    "Since the compound score is a numerical value between -1 and 1, where -1 indicates a strongly negative sentiment, 0 indicates a neutral sentiment, and 1 indicates a strongly positive sentiment. Thus, I decided the thresholds of 0.5 and -0.5 for categorizing positive/negative sentiments, and the tweets with compounds between -0.5 and 0.5 will be categorized as neutral. The reason I picked 0.5/-0.5 instead of 0 as the thresholds is to provide a range for the fluctuation of emotion of the relatively neutral tweets. Only relatively polarized sentiments will be categorized into positive/negative."
   ]
  },
  {
   "cell_type": "code",
   "execution_count": 100,
   "id": "2f849692",
   "metadata": {},
   "outputs": [],
   "source": [
    "# creat empty lists to store the compound scores and sentiment type respectively\n",
    "sentiment = []\n",
    "sentiment_type = []\n",
    "analyzer = SentimentIntensityAnalyzer()\n",
    "\n",
    "# for loop to categorize the tweets according to sentiment\n",
    "for text in fashion['rawContent']:\n",
    "    scores = analyzer.polarity_scores(text)\n",
    "    if scores['compound'] > 0.5:\n",
    "        sentiment_type.append(\"positive\")\n",
    "    elif scores['compound'] < -0.5:\n",
    "        sentiment_type.append(\"negative\")\n",
    "    else:\n",
    "        sentiment_type.append(\"neutral\")     \n",
    "    sentiment.append(scores['compound'])\n",
    "    \n",
    "# add new variables into the dataset\n",
    "fashion['compound'] = sentiment\n",
    "fashion['sentiment'] = sentiment_type"
   ]
  },
  {
   "cell_type": "code",
   "execution_count": 101,
   "id": "f599cbed",
   "metadata": {},
   "outputs": [
    {
     "data": {
      "image/png": "[encoded data removed]",
      "text/plain": [
       "<Figure size 576x432 with 1 Axes>"
      ]
     },
     "metadata": {
      "needs_background": "light"
     },
     "output_type": "display_data"
    }
   ],
   "source": [
    "# making a histogram visualizing the distribution of compound scores\n",
    "plt.figure(figsize=(8, 6))\n",
    "fashion['compound'].plot(kind = \"hist\")\n",
    "plt.xlabel('Compound')\n",
    "plt.ylabel('Counts')\n",
    "plt.title('Fast Fashion Tweets Compound Score')\n",
    "plt.show()"
   ]
  },
  {
   "cell_type": "markdown",
   "id": "24bd1c80",
   "metadata": {},
   "source": [
    "#### Interpretation:  \n",
    "\n",
    "From the plot, the majority of the sentiment centered between 0 and 0.15, implying that most neutral tweets are slightly skewed towards positive. There are more positive tweets than negative at all scales, while the sentiments are slightly polarized around the thresholds. "
   ]
  },
  {
   "cell_type": "code",
   "execution_count": 102,
   "id": "e36cc537",
   "metadata": {},
   "outputs": [
    {
     "data": {
      "text/plain": [
       "neutral     2265\n",
       "positive     888\n",
       "negative     519\n",
       "Name: sentiment, dtype: int64"
      ]
     },
     "execution_count": 102,
     "metadata": {},
     "output_type": "execute_result"
    }
   ],
   "source": [
    "# count and order the sentiment categories\n",
    "\n",
    "fashion['sentiment'].value_counts()"
   ]
  },
  {
   "cell_type": "code",
   "execution_count": 149,
   "id": "4d487e41",
   "metadata": {},
   "outputs": [
    {
     "data": {
      "image/png": "[encoded data removed]",
      "text/plain": [
       "<Figure size 576x432 with 1 Axes>"
      ]
     },
     "metadata": {
      "needs_background": "light"
     },
     "output_type": "display_data"
    }
   ],
   "source": [
    "# making a bar plot visualizing tweet sentiment categories' distribution\n",
    "\n",
    "sentiment = ['Neutral', 'Positive', 'Negative']\n",
    "sentiment_count = [2265, 888, 519]\n",
    "colors = ['orange', 'blue', \"pink\"]\n",
    "\n",
    "plt.figure(figsize=(8, 6))\n",
    "plt.bar(sentiment, sentiment_count, color = colors)\n",
    "plt.ylabel('Counts')\n",
    "plt.title('Tweet Sentiment Distribution')\n",
    "plt.show()"
   ]
  },
  {
   "cell_type": "code",
   "execution_count": 156,
   "id": "03eabd25",
   "metadata": {},
   "outputs": [
    {
     "data": {
      "image/png": "[encoded data removed]",
      "text/plain": [
       "<Figure size 576x432 with 1 Axes>"
      ]
     },
     "metadata": {},
     "output_type": "display_data"
    }
   ],
   "source": [
    "# making a pie plot visualizing tweet sentiment categories proportions\n",
    "\n",
    "plt.figure(figsize=(8, 6))\n",
    "plt.pie(sentiment_count, labels = sentiment)\n",
    "plt.title('Tweet Sentiment distribution')\n",
    "plt.show()"
   ]
  },
  {
   "cell_type": "markdown",
   "id": "d30aa34d",
   "metadata": {},
   "source": [
    "#### Interpretation  \n",
    "From both the bar chart and the pie chart, we can see that there are more positive tweets than negative tweets toward fast fashion, and the number of neutral-sentiment tweets is the highest. This is against my initial belief such that the predominant sentiment will be negative due to the primary discourse surrounding the criticism on fast fashion's environmental degradation and waste. Therefore, it will be interesting to investigate deeper into the tweets' words to see what the discourse and details surrounding the advocacy concerning fast fashion are. "
   ]
  },
  {
   "cell_type": "code",
   "execution_count": 103,
   "id": "923c99d2",
   "metadata": {},
   "outputs": [
    {
     "data": {
      "image/png": "[encoded data removed]",
      "text/plain": [
       "<Figure size 864x432 with 2 Axes>"
      ]
     },
     "metadata": {
      "needs_background": "light"
     },
     "output_type": "display_data"
    }
   ],
   "source": [
    "# create empty lists storing all positive and negative words appearing in all tweets\n",
    "positive_words = []\n",
    "negative_words = []\n",
    "\n",
    "stop_words = stopwords.words('english')\n",
    "\n",
    "# tokenize all the words in each tweet \n",
    "# add them into positive/negative word lists according to their compound scores\n",
    "for text in fashion['rawContent']:\n",
    "    for word in word_tokenize(text):\n",
    "        score = analyzer.polarity_scores(word)['compound']\n",
    "        if score > 0:\n",
    "            positive_words.append(word)\n",
    "        elif score < 0:\n",
    "            negative_words.append(word)\n",
    "\n",
    "# remove stop words \n",
    "negative_words_nostop = [word for word in negative_words if word not in stop_words]\n",
    "positive_words_nostop = [word for word in positive_words if word not in stop_words]\n",
    "\n",
    "# store the frequencies of positive/negative words\n",
    "negative_words_fd_nostop = FreqDist(negative_words_nostop)\n",
    "positive_words_fd_nostop = FreqDist(positive_words_nostop)\n",
    "\n",
    "# obtain the top 15 most frequent positive/negative words\n",
    "most_common_negative_nostop = negative_words_fd_nostop.most_common(15)\n",
    "most_common_positive_nostop = positive_words_fd_nostop.most_common(15)\n",
    "\n",
    "\n",
    "# make two bar plots visualizing the top 15 most frequent positive/negative words (stop words removed)\n",
    "fig, (ax1, ax2) = plt.subplots(ncols=2, figsize=(12,6))\n",
    "\n",
    "ax2.barh([word for (word, count) in most_common_positive_nostop], [count for (word, count) in most_common_positive_nostop], color='pink')\n",
    "ax2.set_title('15 Most Common Positive Words in Fast Fashion Tweet')\n",
    "ax2.set_xlabel(\"Counts\")\n",
    "ax2.invert_yaxis()\n",
    "\n",
    "ax1.barh([word for (word, count) in most_common_negative_nostop], [count for (word, count) in most_common_negative_nostop], color='blue')\n",
    "ax1.set_title('15 Most Common Negative Words in Fast Fashion Tweet')\n",
    "ax1.set_xlabel(\"Counts\")\n",
    "ax1.invert_yaxis()\n",
    "\n",
    "plt.show() \n"
   ]
  },
  {
   "cell_type": "markdown",
   "id": "6071bbf4",
   "metadata": {},
   "source": [
    "#### Interpretation:  \n",
    "This plot provides a more detailed observation on the fast fashion tweets' content. In the positive word list, the occurrence of words \"beauty,\" \"fit,\" and \"friend\" complies with the results of hashtag plot aforementioned, which showed that fast fashion discussions are frequently referenced to aesthetic, cloth genres, and festivals. In the negative word list, there are negative words with very bad connotation such as \"sh*t\", and \"a*s\", signifying that people posting negative tweets expressed really extreme hatred within the fast fashion discussion. Importantly, the words 'waste\" and \"problem\" in the negative word list and the word \"ethical\" in the positive word list both indicate that fast fashion topics pertinent to environmental and ethical issues have been frequently discussed, while the words \"poor\" and \"pay\" reflect people's attitudes towards fast fashion prices and consumption habits.  \n",
    "  \n",
    "These results give insight into my first research question, which aims to explore what people talk about when they discuss fast fashion on Twitter. After looking through the tweets, there is a decent number of people talking about how they’re angry, disgusted, and sad with many fast fashion practices, and some are even afraid of how these brands could be harmful. On the other hand, there are a decent number of tweets that express joy, anticipation, and trust, specifically when referring to recently purchased products or wanting to buy something from certain fast fashion brands. In doing so, people feel anticipation when buying and waiting for a product and joy when they receive the product and wear it for the first time. Thus, the distribution of emotions shows that Twitter discourse around fast fashion is mostly positive and full of anticipation. Many users are voicing their excitement over recently bought clothes or taking fast fashion with a positive twist, such as offering sustainable alternatives or recommending thrifting and re-wearing fast fashion garments to extend their lifespan. It could also mean that much of the discourse on Twitter is actually brands advertising their clothing sales and promotions. On the other hand, negative tweets that are full of criticism or anger at the fast fashion industry are underrepresented in Twitter discourse. These tweets are often extremely critical and repeat the same concerns, such as those advocating for more environmentalism and less consumerist behaviors.   "
   ]
  },
  {
   "cell_type": "markdown",
   "id": "957eb355",
   "metadata": {},
   "source": [
    "# SECTION 4: DISCUSSION"
   ]
  },
  {
   "cell_type": "markdown",
   "id": "3e8608b9",
   "metadata": {},
   "source": [
    "The world is increasingly forced to confront many of the repercussions of human-made decisions, one of which is climate change. American society and culture have contributed to the popularity of fast fashion among consumers who are prone to spending and consuming in excess to keep up with trends. On one hand, corporations exploit human psychological needs to fit in for financial gain. Due to the shortage of craftspeople and manufacturing in the United States, consumers have less awareness about what garments are worth and have become accustomed to inexpensive costs for goods. Consumers neglect to consider the environmental and labor costs associated with mass-produced clothing.  \n",
    "  \n",
    "In the article “Hooking Kids on Fast Fashion,” the author discusses her experience in addressing her child’s desire for fast fashion. The article highlights the negative impact of fast fashion on the environment, labor rights, and consumer culture and how these issues can be difficult to explain to a child who is excited about the latest trends and styles. Many fast fashion brands utilize social media and influencers to reach a wide audience. Among them, children are the most developmentally vulnerable to fitting in with the crowd and gaining social wealth by appearing trendy and fashionable. They also lack a lot of self-regulation when deciding to purchase things for themselves. Therefore, addressing fast fashion with children is one of the challenges pertinent to its influence on American culture, capitalism, and environmentalism. This highlights the importance of promoting sustainable and ethical consumption habits among children and youth and the potential role of social media in facilitating this change. While the high percentage of retweets in the dataset suggests that there is an audience for content related to fast fashion, it also highlights the potential for brands to manipulate this discourse and influence attitudes toward consumption. Therefore, there is a need for more organic discussion promoting sustainable and ethical consumption habits, which can provide a counter-narrative to the dominant discourse around fast fashion and encourage more critical thinking among young consumers. By raising awareness and promoting alternative perspectives, social media discourse can play an important role in shaping attitudes toward consumption and promoting more sustainable and ethical practices.  \n",
    "  \n",
    "The significance of this research on the Twitter discourse regarding fast fashion is that it highlights the impact that the industry has on both individuals and our environment. It aims to inform readers both on the positive and the negative consequences of fast fashion’s surge in popularity within our culture, as well as the repercussions of supporting fast fashion. In this age of TikTok hauls with hundreds of dollars worth of clothing and accessories, I want to encourage people to consume more responsibly and with an awareness of what fast fashion perpetuates in society. I hope that through this analysis of the Twitter discourse surrounding fast fashion, consumers will think more critically about their purchasing habits and decisions. Fast fashion is an industry that facilitates textile waste, pollutes the environment with its synthetic garments, and takes advantage of outsourced labor, yet it is also an industry that seems irrepressible. What we want to emphasize is that this phenomenon is more than just a cultural issue; it is a humanitarian one that affects everyone. While this project is not meant to analyze fast fashion as a whole but rather its discourse on Twitter, we hope that the social media data and sentiment analysis will better inform active players in the fast fashion real such as clothing brands. Through this revelation of sentiments and discourse, we hope to bridge the understanding of fast fashion from multiple perspectives.\n"
   ]
  }
 ],
 "metadata": {
  "celltoolbar": "Tags",
  "kernelspec": {
   "display_name": "Python 3 (ipykernel)",
   "language": "python",
   "name": "python3"
  },
  "language_info": {
   "codemirror_mode": {
    "name": "ipython",
    "version": 3
   },
   "file_extension": ".py",
   "mimetype": "text/x-python",
   "name": "python",
   "nbconvert_exporter": "python",
   "pygments_lexer": "ipython3",
   "version": "3.9.7"
  }
 },
 "nbformat": 4,
 "nbformat_minor": 5
}
